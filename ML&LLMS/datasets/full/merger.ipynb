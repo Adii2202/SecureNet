{
 "cells": [
  {
   "cell_type": "code",
   "execution_count": 1,
   "metadata": {},
   "outputs": [],
   "source": [
    "import json"
   ]
  },
  {
   "cell_type": "code",
   "execution_count": 4,
   "metadata": {},
   "outputs": [],
   "source": [
    "with open('../ecml/ECML.json', 'r') as f:\n",
    "    ecml = json.load(f) "
   ]
  },
  {
   "cell_type": "code",
   "execution_count": 6,
   "metadata": {},
   "outputs": [
    {
     "data": {
      "text/plain": [
       "{'type': 'Valid',\n",
       " 'request': 'crTeYreti=wsn&et3tf6shoV=tdsviee+y+fum%24oh3%3Bore&sAib5hfAvhEpC=tcilbrr+Lne',\n",
       " 'interval': None}"
      ]
     },
     "execution_count": 6,
     "metadata": {},
     "output_type": "execute_result"
    }
   ],
   "source": [
    "ecml[0]"
   ]
  },
  {
   "cell_type": "code",
   "execution_count": 11,
   "metadata": {},
   "outputs": [],
   "source": [
    "with open('../httpParams/HTTPParams.json','r') as f:\n",
    "    custom = json.load(f)"
   ]
  },
  {
   "cell_type": "code",
   "execution_count": 12,
   "metadata": {},
   "outputs": [
    {
     "data": {
      "text/plain": [
       "{'payload': 'c/ caridad s/n', 'attack_type': 'norm'}"
      ]
     },
     "execution_count": 12,
     "metadata": {},
     "output_type": "execute_result"
    }
   ],
   "source": [
    "custom[0]"
   ]
  },
  {
   "cell_type": "code",
   "execution_count": 13,
   "metadata": {},
   "outputs": [],
   "source": [
    "with open('../xss/xss.json' ,'r') as f:\n",
    "    xss = json.load(f)"
   ]
  },
  {
   "cell_type": "code",
   "execution_count": 14,
   "metadata": {},
   "outputs": [
    {
     "data": {
      "text/plain": [
       "{'Unnamed: 0': 0,\n",
       " 'Sentence': '<li><a href=\"/wiki/File:Socrates.png\" class=\"image\"><img alt=\"Socrates.png\" src=\"//upload.wikimedia.org/wikipedia/commons/thumb/c/cd/Socrates.png/18px-Socrates.png\" decoding=\"async\" width=\"18\" height=\"28\" class=\"noviewer\" srcset=\"//upload.wikimedia.org/wikipedia/commons/thumb/c/cd/Socrates.png/27px-Socrates.png 1.5x, //upload.wikimedia.org/wikipedia/commons/thumb/c/cd/Socrates.png/36px-Socrates.png 2x\" data-file-width=\"326\" data-file-height=\"500\" /> </a> <a href=\"/wiki/Portal:Philosophy\" title=\"Portal:Philosophy\">Philosophy&#32;portal </a> </li> </ul>',\n",
       " 'Label': 0}"
      ]
     },
     "execution_count": 14,
     "metadata": {},
     "output_type": "execute_result"
    }
   ],
   "source": [
    "xss[0]"
   ]
  },
  {
   "cell_type": "code",
   "execution_count": 15,
   "metadata": {},
   "outputs": [],
   "source": [
    "import urllib.parse\n",
    "\n",
    "# The unquote function decodes a URL-encoded string, potentially multiple times, until it can no longer be decoded further.\n",
    "def unquote(text):\n",
    "    k = 0\n",
    "    uq_prev = text\n",
    "    while(k < 100):\n",
    "        uq = urllib.parse.unquote_plus(uq_prev)\n",
    "        if uq == uq_prev:\n",
    "            break\n",
    "        else:\n",
    "            uq_prev = uq\n",
    "    \n",
    "    return uq_prev\n",
    "\n",
    "def remove_new_line(text):\n",
    "    \"\"\"\n",
    "    This function removes leading/trailing whitespaces and replaces newline characters with a space.\n",
    "    \n",
    "    Args:\n",
    "        text (str): The input text to be processed.\n",
    "    \n",
    "    Returns:\n",
    "        str: The processed text with no newline characters and leading/trailing whitespaces.\n",
    "    \"\"\"\n",
    "    text = text.strip()  # Remove leading/trailing whitespaces\n",
    "    text = ' '.join(text.splitlines())  # Replace newline characters with a space\n",
    "    \n",
    "    return text\n",
    "\n",
    "\n",
    "def remove_multiple_whitespaces(text):\n",
    "    \"\"\"\n",
    "    This function removes multiple consecutive whitespaces from a given text and replaces them with a single space.\n",
    "    \n",
    "    Args:\n",
    "        text (str): The input text to be processed.\n",
    "    \n",
    "    Returns:\n",
    "        str: The processed text with no multiple consecutive whitespaces.\n",
    "    \"\"\"\n",
    "    return ' '.join(text.split())\n",
    "\n",
    "def clean_pattern(pattern):\n",
    "    # combination of above function\n",
    "    pattern = unquote(pattern)  # Decodes URL-encoded strings\n",
    "    pattern = remove_new_line(pattern)  # Removes leading/trailing whitespaces and replaces newline characters with a space\n",
    "    pattern = pattern.lower()  # Converts to lowercase\n",
    "    pattern = remove_multiple_whitespaces(pattern)  # Removes multiple consecutive whitespaces\n",
    "    \n",
    "    return pattern"
   ]
  },
  {
   "cell_type": "markdown",
   "metadata": {},
   "source": [
    "# For ecml data"
   ]
  },
  {
   "cell_type": "code",
   "execution_count": 16,
   "metadata": {},
   "outputs": [],
   "source": [
    "def prepare_ecml(x):\n",
    "    \"\"\"\n",
    "    Prepares the input data for ECML processing.\n",
    "\n",
    "    Args:\n",
    "        x (dict): Input data containing 'request' and 'type' keys.\n",
    "\n",
    "    Returns:\n",
    "        dict: Processed data with 'pattern' and 'type' keys.\n",
    "    \"\"\"\n",
    "    out = {}\n",
    "    out['pattern'] = clean_pattern(x['request'])\n",
    "    if x['type'] == 'Valid':\n",
    "        out['type'] = 'valid'\n",
    "    elif x['type'] == 'XSS':\n",
    "        out['type'] = 'xss'\n",
    "    elif x['type'] == 'SqlInjection':\n",
    "        out['type'] = 'sqli'\n",
    "    elif x['type'] == 'PathTransversal':\n",
    "        out['type'] = 'path-traversal'\n",
    "    elif x['type'] == 'OsCommanding':\n",
    "        out['type'] = 'cmdi'\n",
    "    return out"
   ]
  },
  {
   "cell_type": "markdown",
   "metadata": {},
   "source": [
    "# For https"
   ]
  },
  {
   "cell_type": "code",
   "execution_count": 17,
   "metadata": {},
   "outputs": [],
   "source": [
    "def prepare_custom(x):\n",
    "    out = {}\n",
    "    \n",
    "    out['pattern'] = clean_pattern(x['payload'])\n",
    "    if x['attack_type'] == 'norm':\n",
    "        out['type'] = 'valid'\n",
    "    else:\n",
    "        out['type'] = x['attack_type']\n",
    "    return out"
   ]
  },
  {
   "cell_type": "markdown",
   "metadata": {},
   "source": [
    "# For xss"
   ]
  },
  {
   "cell_type": "code",
   "execution_count": 18,
   "metadata": {},
   "outputs": [],
   "source": [
    "def prepare_xss(x):\n",
    "    out = {}\n",
    "    \n",
    "    out['pattern'] = clean_pattern(x['Sentence'])\n",
    "    if x['Label'] == 1:\n",
    "        out['type'] = 'xss'\n",
    "    else:\n",
    "        out['type'] = 'valid'\n",
    "    return out"
   ]
  },
  {
   "cell_type": "code",
   "execution_count": 19,
   "metadata": {},
   "outputs": [],
   "source": [
    "ecml = list(map(prepare_ecml, ecml))\n",
    "custom = list(map(prepare_custom, custom))\n",
    "xss = list(map(prepare_xss, xss))\n",
    "# The code is preparing three lists (ecml, custom, xss) by applying specific functions (prepare_ecml, prepare_custom, prepare_xss) to each element in the lists using the map() function.\n",
    "# The map() function applies a given function to each item of an iterable (like a list or tuple) and returns a list of the results.\n",
    "# The results are then converted to lists using the list() function.\n",
    "# The prepared lists are stored in the ecml, custom, and xss variables."
   ]
  },
  {
   "cell_type": "code",
   "execution_count": 20,
   "metadata": {},
   "outputs": [
    {
     "data": {
      "text/plain": [
       "{'pattern': 'crteyreti=wsn&et3tf6shov=tdsviee y fum$oh3;ore&saib5hfavhepc=tcilbrr lne',\n",
       " 'type': 'valid'}"
      ]
     },
     "execution_count": 20,
     "metadata": {},
     "output_type": "execute_result"
    }
   ],
   "source": [
    "ecml[0]"
   ]
  },
  {
   "cell_type": "code",
   "execution_count": 21,
   "metadata": {},
   "outputs": [
    {
     "data": {
      "text/plain": [
       "{'pattern': '<li><a href=\"/wiki/file:socrates.png\" class=\"image\"><img alt=\"socrates.png\" src=\"//upload.wikimedia.org/wikipedia/commons/thumb/c/cd/socrates.png/18px-socrates.png\" decoding=\"async\" width=\"18\" height=\"28\" class=\"noviewer\" srcset=\"//upload.wikimedia.org/wikipedia/commons/thumb/c/cd/socrates.png/27px-socrates.png 1.5x, //upload.wikimedia.org/wikipedia/commons/thumb/c/cd/socrates.png/36px-socrates.png 2x\" data-file-width=\"326\" data-file-height=\"500\" /> </a> <a href=\"/wiki/portal:philosophy\" title=\"portal:philosophy\">philosophy&#32;portal </a> </li> </ul>',\n",
       " 'type': 'valid'}"
      ]
     },
     "execution_count": 21,
     "metadata": {},
     "output_type": "execute_result"
    }
   ],
   "source": [
    "xss[0]"
   ]
  },
  {
   "cell_type": "code",
   "execution_count": 22,
   "metadata": {},
   "outputs": [
    {
     "data": {
      "text/plain": [
       "{'pattern': 'c/ caridad s/n', 'type': 'valid'}"
      ]
     },
     "execution_count": 22,
     "metadata": {},
     "output_type": "execute_result"
    }
   ],
   "source": [
    "custom[0]"
   ]
  },
  {
   "cell_type": "code",
   "execution_count": 23,
   "metadata": {},
   "outputs": [],
   "source": [
    "with open('ecml_clean.json', 'w') as f:\n",
    "    json.dump(ecml, f)"
   ]
  },
  {
   "cell_type": "code",
   "execution_count": 25,
   "metadata": {},
   "outputs": [],
   "source": [
    "with open('HTTPParams_clean.json', 'w') as f:\n",
    "    json.dump(custom, f)"
   ]
  },
  {
   "cell_type": "code",
   "execution_count": 26,
   "metadata": {},
   "outputs": [],
   "source": [
    "with open('xss_clean.json', 'w') as f:\n",
    "    json.dump(xss, f)"
   ]
  },
  {
   "cell_type": "code",
   "execution_count": 27,
   "metadata": {},
   "outputs": [],
   "source": [
    "complete_clean = ecml+custom+xss\n",
    "# This line of code is combining three variables (ecml, custom, and xss) into a new variable named 'complete_clean' using the addition operator (+), which is likely being used for string concatenation in this context. "
   ]
  },
  {
   "cell_type": "code",
   "execution_count": 31,
   "metadata": {},
   "outputs": [
    {
     "data": {
      "text/plain": [
       "{'pattern': 'crteyreti=wsn&et3tf6shov=tdsviee y fum$oh3;ore&saib5hfavhepc=tcilbrr lne',\n",
       " 'type': 'valid'}"
      ]
     },
     "execution_count": 31,
     "metadata": {},
     "output_type": "execute_result"
    }
   ],
   "source": [
    "complete_clean"
   ]
  },
  {
   "cell_type": "code",
   "execution_count": 32,
   "metadata": {},
   "outputs": [],
   "source": [
    "with open('complete_clean.json', 'w') as f:\n",
    "    json.dump(complete_clean, f)"
   ]
  }
 ],
 "metadata": {
  "kernelspec": {
   "display_name": "SIH",
   "language": "python",
   "name": "python3"
  },
  "language_info": {
   "codemirror_mode": {
    "name": "ipython",
    "version": 3
   },
   "file_extension": ".py",
   "mimetype": "text/x-python",
   "name": "python",
   "nbconvert_exporter": "python",
   "pygments_lexer": "ipython3",
   "version": "3.9.19"
  }
 },
 "nbformat": 4,
 "nbformat_minor": 2
}
